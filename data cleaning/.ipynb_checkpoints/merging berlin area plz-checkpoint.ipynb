{
 "cells": [
  {
   "cell_type": "code",
   "execution_count": 2,
   "metadata": {},
   "outputs": [],
   "source": [
    "import pandas as pd"
   ]
  },
  {
   "cell_type": "markdown",
   "metadata": {},
   "source": [
    "create data for kids 1-6 per Area \n",
    "from: https://www.statistik-berlin-brandenburg.de/webapi/jsf/tableView/tableView.xhtml"
   ]
  },
  {
   "cell_type": "code",
   "execution_count": 3,
   "metadata": {},
   "outputs": [],
   "source": [
    "data = {\"area\" : [\"Mitte\",\n",
    "                  \"Friedrichsh.-Kreuzb.\", \n",
    "                  \"Pankow\", \n",
    "                  \"Charlbg.-Wilmersd.\", \n",
    "                  \"Spandau\",\n",
    "                  \"Steglitz-Zehlend.\", \n",
    "                  \"Tempelh.-Schöneb.\", \n",
    "                  \"Neukölln\", \n",
    "                  \"Treptow-Köpenick\",\n",
    "                  \"Marzahn-Hellersd.\",\n",
    "                  \"Lichtenberg\", \n",
    "                  \"Reinickendorf\"], \n",
    "        \"under6\": [19305, \n",
    "                   15097,\n",
    "                   23246,\n",
    "                   13567,\n",
    "                   12662,\n",
    "                   13363,\n",
    "                   16546,\n",
    "                   17040,\n",
    "                   13798,\n",
    "                   14625,\n",
    "                   16108,\n",
    "                   13148]}"
   ]
  },
  {
   "cell_type": "code",
   "execution_count": 4,
   "metadata": {},
   "outputs": [],
   "source": [
    "df_area_kids = pd.DataFrame.from_dict(data)"
   ]
  },
  {
   "cell_type": "markdown",
   "metadata": {},
   "source": [
    "### Summing Spots by Area "
   ]
  },
  {
   "cell_type": "code",
   "execution_count": 17,
   "metadata": {},
   "outputs": [],
   "source": [
    "df_ber = pd.read_csv(\"../data/raw/kitaliste.csv\", index_col=[0])"
   ]
  },
  {
   "cell_type": "code",
   "execution_count": 18,
   "metadata": {},
   "outputs": [],
   "source": [
    "sum_all_spots = df_ber.groupby(df_ber[\"area\"])[\"kita_spots\"].sum()"
   ]
  },
  {
   "cell_type": "code",
   "execution_count": 19,
   "metadata": {},
   "outputs": [
    {
     "data": {
      "text/html": [
       "<div>\n",
       "<style scoped>\n",
       "    .dataframe tbody tr th:only-of-type {\n",
       "        vertical-align: middle;\n",
       "    }\n",
       "\n",
       "    .dataframe tbody tr th {\n",
       "        vertical-align: top;\n",
       "    }\n",
       "\n",
       "    .dataframe thead th {\n",
       "        text-align: right;\n",
       "    }\n",
       "</style>\n",
       "<table border=\"1\" class=\"dataframe\">\n",
       "  <thead>\n",
       "    <tr style=\"text-align: right;\">\n",
       "      <th></th>\n",
       "      <th>area</th>\n",
       "      <th>kita_spots</th>\n",
       "    </tr>\n",
       "  </thead>\n",
       "  <tbody>\n",
       "    <tr>\n",
       "      <th>0</th>\n",
       "      <td>Charlbg.-Wilmersd.</td>\n",
       "      <td>12691.0</td>\n",
       "    </tr>\n",
       "    <tr>\n",
       "      <th>1</th>\n",
       "      <td>Friedrichsh.-Kreuzb.</td>\n",
       "      <td>15876.0</td>\n",
       "    </tr>\n",
       "    <tr>\n",
       "      <th>2</th>\n",
       "      <td>Lichtenberg</td>\n",
       "      <td>16039.0</td>\n",
       "    </tr>\n",
       "    <tr>\n",
       "      <th>3</th>\n",
       "      <td>Marzahn-Hellersd.</td>\n",
       "      <td>13570.0</td>\n",
       "    </tr>\n",
       "    <tr>\n",
       "      <th>4</th>\n",
       "      <td>Mitte</td>\n",
       "      <td>20831.0</td>\n",
       "    </tr>\n",
       "    <tr>\n",
       "      <th>5</th>\n",
       "      <td>Neukölln</td>\n",
       "      <td>14833.0</td>\n",
       "    </tr>\n",
       "    <tr>\n",
       "      <th>6</th>\n",
       "      <td>Pankow</td>\n",
       "      <td>24511.0</td>\n",
       "    </tr>\n",
       "    <tr>\n",
       "      <th>7</th>\n",
       "      <td>Reinickendorf</td>\n",
       "      <td>11213.0</td>\n",
       "    </tr>\n",
       "    <tr>\n",
       "      <th>8</th>\n",
       "      <td>Spandau</td>\n",
       "      <td>11289.0</td>\n",
       "    </tr>\n",
       "    <tr>\n",
       "      <th>9</th>\n",
       "      <td>Steglitz-Zehlend.</td>\n",
       "      <td>13276.0</td>\n",
       "    </tr>\n",
       "    <tr>\n",
       "      <th>10</th>\n",
       "      <td>Tempelh.-Schöneb.</td>\n",
       "      <td>16238.0</td>\n",
       "    </tr>\n",
       "    <tr>\n",
       "      <th>11</th>\n",
       "      <td>Treptow-Köpenick</td>\n",
       "      <td>13200.0</td>\n",
       "    </tr>\n",
       "  </tbody>\n",
       "</table>\n",
       "</div>"
      ],
      "text/plain": [
       "                    area  kita_spots\n",
       "0     Charlbg.-Wilmersd.     12691.0\n",
       "1   Friedrichsh.-Kreuzb.     15876.0\n",
       "2            Lichtenberg     16039.0\n",
       "3      Marzahn-Hellersd.     13570.0\n",
       "4                  Mitte     20831.0\n",
       "5               Neukölln     14833.0\n",
       "6                 Pankow     24511.0\n",
       "7          Reinickendorf     11213.0\n",
       "8                Spandau     11289.0\n",
       "9      Steglitz-Zehlend.     13276.0\n",
       "10     Tempelh.-Schöneb.     16238.0\n",
       "11      Treptow-Köpenick     13200.0"
      ]
     },
     "execution_count": 19,
     "metadata": {},
     "output_type": "execute_result"
    }
   ],
   "source": [
    "df_all_spots = sum_all_spots.reset_index()\n",
    "df_all_spots"
   ]
  },
  {
   "cell_type": "code",
   "execution_count": 20,
   "metadata": {},
   "outputs": [],
   "source": [
    "sum_spots = df_ber.groupby(df_ber[\"plz\"])[\"kita_spots\"].sum()"
   ]
  },
  {
   "cell_type": "code",
   "execution_count": 21,
   "metadata": {},
   "outputs": [],
   "source": [
    "df_spots = sum_spots.reset_index()"
   ]
  },
  {
   "cell_type": "markdown",
   "metadata": {},
   "source": [
    "### Summing Spots by PLZ"
   ]
  },
  {
   "cell_type": "code",
   "execution_count": 41,
   "metadata": {},
   "outputs": [],
   "source": [
    "df_kinder = pd.read_csv(r'../data/derived/kids_ber_19.csv', index_col=[0])"
   ]
  },
  {
   "cell_type": "code",
   "execution_count": 42,
   "metadata": {},
   "outputs": [],
   "source": [
    "sum_kids = df_kinder.groupby(['plz'], group_keys=False)['under6'].sum()\n",
    "df_kids = sum_kids.reset_index()"
   ]
  },
  {
   "cell_type": "markdown",
   "metadata": {},
   "source": [
    "### Merging "
   ]
  },
  {
   "cell_type": "code",
   "execution_count": 24,
   "metadata": {},
   "outputs": [],
   "source": [
    "df_sums_all = pd.merge(df_all_spots, df_area_kids, on=\"area\", how=\"left\")"
   ]
  },
  {
   "cell_type": "code",
   "execution_count": 25,
   "metadata": {},
   "outputs": [
    {
     "data": {
      "text/html": [
       "<div>\n",
       "<style scoped>\n",
       "    .dataframe tbody tr th:only-of-type {\n",
       "        vertical-align: middle;\n",
       "    }\n",
       "\n",
       "    .dataframe tbody tr th {\n",
       "        vertical-align: top;\n",
       "    }\n",
       "\n",
       "    .dataframe thead th {\n",
       "        text-align: right;\n",
       "    }\n",
       "</style>\n",
       "<table border=\"1\" class=\"dataframe\">\n",
       "  <thead>\n",
       "    <tr style=\"text-align: right;\">\n",
       "      <th></th>\n",
       "      <th>area</th>\n",
       "      <th>kita_spots</th>\n",
       "      <th>under6</th>\n",
       "    </tr>\n",
       "  </thead>\n",
       "  <tbody>\n",
       "    <tr>\n",
       "      <th>0</th>\n",
       "      <td>Charlbg.-Wilmersd.</td>\n",
       "      <td>12691.0</td>\n",
       "      <td>13567</td>\n",
       "    </tr>\n",
       "    <tr>\n",
       "      <th>1</th>\n",
       "      <td>Friedrichsh.-Kreuzb.</td>\n",
       "      <td>15876.0</td>\n",
       "      <td>15097</td>\n",
       "    </tr>\n",
       "    <tr>\n",
       "      <th>2</th>\n",
       "      <td>Lichtenberg</td>\n",
       "      <td>16039.0</td>\n",
       "      <td>16108</td>\n",
       "    </tr>\n",
       "    <tr>\n",
       "      <th>3</th>\n",
       "      <td>Marzahn-Hellersd.</td>\n",
       "      <td>13570.0</td>\n",
       "      <td>14625</td>\n",
       "    </tr>\n",
       "    <tr>\n",
       "      <th>4</th>\n",
       "      <td>Mitte</td>\n",
       "      <td>20831.0</td>\n",
       "      <td>19305</td>\n",
       "    </tr>\n",
       "    <tr>\n",
       "      <th>5</th>\n",
       "      <td>Neukölln</td>\n",
       "      <td>14833.0</td>\n",
       "      <td>17040</td>\n",
       "    </tr>\n",
       "    <tr>\n",
       "      <th>6</th>\n",
       "      <td>Pankow</td>\n",
       "      <td>24511.0</td>\n",
       "      <td>23246</td>\n",
       "    </tr>\n",
       "    <tr>\n",
       "      <th>7</th>\n",
       "      <td>Reinickendorf</td>\n",
       "      <td>11213.0</td>\n",
       "      <td>13148</td>\n",
       "    </tr>\n",
       "    <tr>\n",
       "      <th>8</th>\n",
       "      <td>Spandau</td>\n",
       "      <td>11289.0</td>\n",
       "      <td>12662</td>\n",
       "    </tr>\n",
       "    <tr>\n",
       "      <th>9</th>\n",
       "      <td>Steglitz-Zehlend.</td>\n",
       "      <td>13276.0</td>\n",
       "      <td>13363</td>\n",
       "    </tr>\n",
       "    <tr>\n",
       "      <th>10</th>\n",
       "      <td>Tempelh.-Schöneb.</td>\n",
       "      <td>16238.0</td>\n",
       "      <td>16546</td>\n",
       "    </tr>\n",
       "    <tr>\n",
       "      <th>11</th>\n",
       "      <td>Treptow-Köpenick</td>\n",
       "      <td>13200.0</td>\n",
       "      <td>13798</td>\n",
       "    </tr>\n",
       "  </tbody>\n",
       "</table>\n",
       "</div>"
      ],
      "text/plain": [
       "                    area  kita_spots  under6\n",
       "0     Charlbg.-Wilmersd.     12691.0   13567\n",
       "1   Friedrichsh.-Kreuzb.     15876.0   15097\n",
       "2            Lichtenberg     16039.0   16108\n",
       "3      Marzahn-Hellersd.     13570.0   14625\n",
       "4                  Mitte     20831.0   19305\n",
       "5               Neukölln     14833.0   17040\n",
       "6                 Pankow     24511.0   23246\n",
       "7          Reinickendorf     11213.0   13148\n",
       "8                Spandau     11289.0   12662\n",
       "9      Steglitz-Zehlend.     13276.0   13363\n",
       "10     Tempelh.-Schöneb.     16238.0   16546\n",
       "11      Treptow-Köpenick     13200.0   13798"
      ]
     },
     "execution_count": 25,
     "metadata": {},
     "output_type": "execute_result"
    }
   ],
   "source": [
    "df_sums_all"
   ]
  },
  {
   "cell_type": "code",
   "execution_count": 26,
   "metadata": {},
   "outputs": [
    {
     "data": {
      "text/html": [
       "<div>\n",
       "<style scoped>\n",
       "    .dataframe tbody tr th:only-of-type {\n",
       "        vertical-align: middle;\n",
       "    }\n",
       "\n",
       "    .dataframe tbody tr th {\n",
       "        vertical-align: top;\n",
       "    }\n",
       "\n",
       "    .dataframe thead th {\n",
       "        text-align: right;\n",
       "    }\n",
       "</style>\n",
       "<table border=\"1\" class=\"dataframe\">\n",
       "  <thead>\n",
       "    <tr style=\"text-align: right;\">\n",
       "      <th></th>\n",
       "      <th>area</th>\n",
       "      <th>kita_spots</th>\n",
       "      <th>under6</th>\n",
       "      <th>diff</th>\n",
       "      <th>kids_per_spot</th>\n",
       "    </tr>\n",
       "  </thead>\n",
       "  <tbody>\n",
       "    <tr>\n",
       "      <th>0</th>\n",
       "      <td>Charlbg.-Wilmersd.</td>\n",
       "      <td>12691.0</td>\n",
       "      <td>13567</td>\n",
       "      <td>876.0</td>\n",
       "      <td>1.069025</td>\n",
       "    </tr>\n",
       "    <tr>\n",
       "      <th>1</th>\n",
       "      <td>Friedrichsh.-Kreuzb.</td>\n",
       "      <td>15876.0</td>\n",
       "      <td>15097</td>\n",
       "      <td>-779.0</td>\n",
       "      <td>0.950932</td>\n",
       "    </tr>\n",
       "    <tr>\n",
       "      <th>2</th>\n",
       "      <td>Lichtenberg</td>\n",
       "      <td>16039.0</td>\n",
       "      <td>16108</td>\n",
       "      <td>69.0</td>\n",
       "      <td>1.004302</td>\n",
       "    </tr>\n",
       "    <tr>\n",
       "      <th>3</th>\n",
       "      <td>Marzahn-Hellersd.</td>\n",
       "      <td>13570.0</td>\n",
       "      <td>14625</td>\n",
       "      <td>1055.0</td>\n",
       "      <td>1.077745</td>\n",
       "    </tr>\n",
       "    <tr>\n",
       "      <th>4</th>\n",
       "      <td>Mitte</td>\n",
       "      <td>20831.0</td>\n",
       "      <td>19305</td>\n",
       "      <td>-1526.0</td>\n",
       "      <td>0.926744</td>\n",
       "    </tr>\n",
       "    <tr>\n",
       "      <th>5</th>\n",
       "      <td>Neukölln</td>\n",
       "      <td>14833.0</td>\n",
       "      <td>17040</td>\n",
       "      <td>2207.0</td>\n",
       "      <td>1.148790</td>\n",
       "    </tr>\n",
       "    <tr>\n",
       "      <th>6</th>\n",
       "      <td>Pankow</td>\n",
       "      <td>24511.0</td>\n",
       "      <td>23246</td>\n",
       "      <td>-1265.0</td>\n",
       "      <td>0.948391</td>\n",
       "    </tr>\n",
       "    <tr>\n",
       "      <th>7</th>\n",
       "      <td>Reinickendorf</td>\n",
       "      <td>11213.0</td>\n",
       "      <td>13148</td>\n",
       "      <td>1935.0</td>\n",
       "      <td>1.172568</td>\n",
       "    </tr>\n",
       "    <tr>\n",
       "      <th>8</th>\n",
       "      <td>Spandau</td>\n",
       "      <td>11289.0</td>\n",
       "      <td>12662</td>\n",
       "      <td>1373.0</td>\n",
       "      <td>1.121623</td>\n",
       "    </tr>\n",
       "    <tr>\n",
       "      <th>9</th>\n",
       "      <td>Steglitz-Zehlend.</td>\n",
       "      <td>13276.0</td>\n",
       "      <td>13363</td>\n",
       "      <td>87.0</td>\n",
       "      <td>1.006553</td>\n",
       "    </tr>\n",
       "    <tr>\n",
       "      <th>10</th>\n",
       "      <td>Tempelh.-Schöneb.</td>\n",
       "      <td>16238.0</td>\n",
       "      <td>16546</td>\n",
       "      <td>308.0</td>\n",
       "      <td>1.018968</td>\n",
       "    </tr>\n",
       "    <tr>\n",
       "      <th>11</th>\n",
       "      <td>Treptow-Köpenick</td>\n",
       "      <td>13200.0</td>\n",
       "      <td>13798</td>\n",
       "      <td>598.0</td>\n",
       "      <td>1.045303</td>\n",
       "    </tr>\n",
       "  </tbody>\n",
       "</table>\n",
       "</div>"
      ],
      "text/plain": [
       "                    area  kita_spots  under6    diff  kids_per_spot\n",
       "0     Charlbg.-Wilmersd.     12691.0   13567   876.0       1.069025\n",
       "1   Friedrichsh.-Kreuzb.     15876.0   15097  -779.0       0.950932\n",
       "2            Lichtenberg     16039.0   16108    69.0       1.004302\n",
       "3      Marzahn-Hellersd.     13570.0   14625  1055.0       1.077745\n",
       "4                  Mitte     20831.0   19305 -1526.0       0.926744\n",
       "5               Neukölln     14833.0   17040  2207.0       1.148790\n",
       "6                 Pankow     24511.0   23246 -1265.0       0.948391\n",
       "7          Reinickendorf     11213.0   13148  1935.0       1.172568\n",
       "8                Spandau     11289.0   12662  1373.0       1.121623\n",
       "9      Steglitz-Zehlend.     13276.0   13363    87.0       1.006553\n",
       "10     Tempelh.-Schöneb.     16238.0   16546   308.0       1.018968\n",
       "11      Treptow-Köpenick     13200.0   13798   598.0       1.045303"
      ]
     },
     "execution_count": 26,
     "metadata": {},
     "output_type": "execute_result"
    }
   ],
   "source": [
    "df_sums_all[\"diff\"] = df_sums_all.under6-df_sums_all.kita_spots\n",
    "df_sums_all[\"kids_per_spot\"] = df_sums_all.under6/df_sums_all.kita_spots\n",
    "#df_sums_all = df_sums_all.dropna()\n",
    "df_sums_all"
   ]
  },
  {
   "cell_type": "code",
   "execution_count": 27,
   "metadata": {},
   "outputs": [],
   "source": [
    "df_sums = pd.merge(df_spots, df_kids, on=\"plz\", how=\"left\")"
   ]
  },
  {
   "cell_type": "code",
   "execution_count": 28,
   "metadata": {},
   "outputs": [],
   "source": [
    "df_sums[\"diff\"] = df_sums.under6-df_sums.kita_spots"
   ]
  },
  {
   "cell_type": "code",
   "execution_count": 29,
   "metadata": {},
   "outputs": [
    {
     "data": {
      "text/html": [
       "<div>\n",
       "<style scoped>\n",
       "    .dataframe tbody tr th:only-of-type {\n",
       "        vertical-align: middle;\n",
       "    }\n",
       "\n",
       "    .dataframe tbody tr th {\n",
       "        vertical-align: top;\n",
       "    }\n",
       "\n",
       "    .dataframe thead th {\n",
       "        text-align: right;\n",
       "    }\n",
       "</style>\n",
       "<table border=\"1\" class=\"dataframe\">\n",
       "  <thead>\n",
       "    <tr style=\"text-align: right;\">\n",
       "      <th></th>\n",
       "      <th>plz</th>\n",
       "      <th>kita_spots</th>\n",
       "      <th>under6</th>\n",
       "      <th>diff</th>\n",
       "      <th>kids_per_spot</th>\n",
       "    </tr>\n",
       "  </thead>\n",
       "  <tbody>\n",
       "    <tr>\n",
       "      <th>0</th>\n",
       "      <td>10115</td>\n",
       "      <td>1808.0</td>\n",
       "      <td>1837</td>\n",
       "      <td>29.0</td>\n",
       "      <td>1.016040</td>\n",
       "    </tr>\n",
       "    <tr>\n",
       "      <th>1</th>\n",
       "      <td>10117</td>\n",
       "      <td>1550.0</td>\n",
       "      <td>1219</td>\n",
       "      <td>-331.0</td>\n",
       "      <td>0.786452</td>\n",
       "    </tr>\n",
       "    <tr>\n",
       "      <th>2</th>\n",
       "      <td>10119</td>\n",
       "      <td>1226.0</td>\n",
       "      <td>263</td>\n",
       "      <td>-963.0</td>\n",
       "      <td>0.214519</td>\n",
       "    </tr>\n",
       "    <tr>\n",
       "      <th>3</th>\n",
       "      <td>10178</td>\n",
       "      <td>560.0</td>\n",
       "      <td>1962</td>\n",
       "      <td>1402.0</td>\n",
       "      <td>3.503571</td>\n",
       "    </tr>\n",
       "    <tr>\n",
       "      <th>4</th>\n",
       "      <td>10179</td>\n",
       "      <td>928.0</td>\n",
       "      <td>1173</td>\n",
       "      <td>245.0</td>\n",
       "      <td>1.264009</td>\n",
       "    </tr>\n",
       "    <tr>\n",
       "      <th>...</th>\n",
       "      <td>...</td>\n",
       "      <td>...</td>\n",
       "      <td>...</td>\n",
       "      <td>...</td>\n",
       "      <td>...</td>\n",
       "    </tr>\n",
       "    <tr>\n",
       "      <th>185</th>\n",
       "      <td>14169</td>\n",
       "      <td>486.0</td>\n",
       "      <td>184</td>\n",
       "      <td>-302.0</td>\n",
       "      <td>0.378601</td>\n",
       "    </tr>\n",
       "    <tr>\n",
       "      <th>186</th>\n",
       "      <td>14193</td>\n",
       "      <td>792.0</td>\n",
       "      <td>2984</td>\n",
       "      <td>2192.0</td>\n",
       "      <td>3.767677</td>\n",
       "    </tr>\n",
       "    <tr>\n",
       "      <th>187</th>\n",
       "      <td>14195</td>\n",
       "      <td>1222.0</td>\n",
       "      <td>1903</td>\n",
       "      <td>681.0</td>\n",
       "      <td>1.557283</td>\n",
       "    </tr>\n",
       "    <tr>\n",
       "      <th>188</th>\n",
       "      <td>14197</td>\n",
       "      <td>627.0</td>\n",
       "      <td>2833</td>\n",
       "      <td>2206.0</td>\n",
       "      <td>4.518341</td>\n",
       "    </tr>\n",
       "    <tr>\n",
       "      <th>189</th>\n",
       "      <td>14199</td>\n",
       "      <td>337.0</td>\n",
       "      <td>1077</td>\n",
       "      <td>740.0</td>\n",
       "      <td>3.195846</td>\n",
       "    </tr>\n",
       "  </tbody>\n",
       "</table>\n",
       "<p>190 rows × 5 columns</p>\n",
       "</div>"
      ],
      "text/plain": [
       "       plz  kita_spots  under6    diff  kids_per_spot\n",
       "0    10115      1808.0    1837    29.0       1.016040\n",
       "1    10117      1550.0    1219  -331.0       0.786452\n",
       "2    10119      1226.0     263  -963.0       0.214519\n",
       "3    10178       560.0    1962  1402.0       3.503571\n",
       "4    10179       928.0    1173   245.0       1.264009\n",
       "..     ...         ...     ...     ...            ...\n",
       "185  14169       486.0     184  -302.0       0.378601\n",
       "186  14193       792.0    2984  2192.0       3.767677\n",
       "187  14195      1222.0    1903   681.0       1.557283\n",
       "188  14197       627.0    2833  2206.0       4.518341\n",
       "189  14199       337.0    1077   740.0       3.195846\n",
       "\n",
       "[190 rows x 5 columns]"
      ]
     },
     "execution_count": 29,
     "metadata": {},
     "output_type": "execute_result"
    }
   ],
   "source": [
    "df_sums[\"kids_per_spot\"] = df_sums.under6/df_sums.kita_spots\n",
    "df_sums = df_sums.dropna()\n",
    "df_sums"
   ]
  },
  {
   "cell_type": "code",
   "execution_count": 44,
   "metadata": {},
   "outputs": [],
   "source": [
    "df_sums.to_csv(\"../data/derived/calculated_data_plz.csv\")"
   ]
  },
  {
   "cell_type": "markdown",
   "metadata": {},
   "source": [
    "#### Adding female labor force info "
   ]
  },
  {
   "cell_type": "code",
   "execution_count": 43,
   "metadata": {},
   "outputs": [],
   "source": [
    "df_labor_force = pd.read_excel('../data/raw/frauenerwerbsquote.xlsx')"
   ]
  },
  {
   "cell_type": "code",
   "execution_count": 45,
   "metadata": {},
   "outputs": [],
   "source": [
    "df_labor_force = df_labor_force.rename(columns={\"Bezirk\": \"area\", \"Erwerbsquote\": \"women_labor_prct\"})"
   ]
  },
  {
   "cell_type": "code",
   "execution_count": 46,
   "metadata": {},
   "outputs": [],
   "source": [
    "df_labor_force.to_csv(\"../data/derived/frauenerwerbsquote.csv\")"
   ]
  },
  {
   "cell_type": "code",
   "execution_count": 47,
   "metadata": {},
   "outputs": [
    {
     "data": {
      "text/html": [
       "<div>\n",
       "<style scoped>\n",
       "    .dataframe tbody tr th:only-of-type {\n",
       "        vertical-align: middle;\n",
       "    }\n",
       "\n",
       "    .dataframe tbody tr th {\n",
       "        vertical-align: top;\n",
       "    }\n",
       "\n",
       "    .dataframe thead th {\n",
       "        text-align: right;\n",
       "    }\n",
       "</style>\n",
       "<table border=\"1\" class=\"dataframe\">\n",
       "  <thead>\n",
       "    <tr style=\"text-align: right;\">\n",
       "      <th></th>\n",
       "      <th>area</th>\n",
       "      <th>kita_spots</th>\n",
       "      <th>under6</th>\n",
       "      <th>diff</th>\n",
       "      <th>kids_per_spot</th>\n",
       "      <th>women_labor_prct</th>\n",
       "    </tr>\n",
       "  </thead>\n",
       "  <tbody>\n",
       "    <tr>\n",
       "      <th>0</th>\n",
       "      <td>Charlbg.-Wilmersd.</td>\n",
       "      <td>12691.0</td>\n",
       "      <td>13567</td>\n",
       "      <td>876.0</td>\n",
       "      <td>1.069025</td>\n",
       "      <td>72.2</td>\n",
       "    </tr>\n",
       "    <tr>\n",
       "      <th>1</th>\n",
       "      <td>Friedrichsh.-Kreuzb.</td>\n",
       "      <td>15876.0</td>\n",
       "      <td>15097</td>\n",
       "      <td>-779.0</td>\n",
       "      <td>0.950932</td>\n",
       "      <td>80.1</td>\n",
       "    </tr>\n",
       "    <tr>\n",
       "      <th>2</th>\n",
       "      <td>Lichtenberg</td>\n",
       "      <td>16039.0</td>\n",
       "      <td>16108</td>\n",
       "      <td>69.0</td>\n",
       "      <td>1.004302</td>\n",
       "      <td>77.1</td>\n",
       "    </tr>\n",
       "    <tr>\n",
       "      <th>3</th>\n",
       "      <td>Marzahn-Hellersd.</td>\n",
       "      <td>13570.0</td>\n",
       "      <td>14625</td>\n",
       "      <td>1055.0</td>\n",
       "      <td>1.077745</td>\n",
       "      <td>75.8</td>\n",
       "    </tr>\n",
       "    <tr>\n",
       "      <th>4</th>\n",
       "      <td>Mitte</td>\n",
       "      <td>20831.0</td>\n",
       "      <td>19305</td>\n",
       "      <td>-1526.0</td>\n",
       "      <td>0.926744</td>\n",
       "      <td>69.7</td>\n",
       "    </tr>\n",
       "    <tr>\n",
       "      <th>5</th>\n",
       "      <td>Neukölln</td>\n",
       "      <td>14833.0</td>\n",
       "      <td>17040</td>\n",
       "      <td>2207.0</td>\n",
       "      <td>1.148790</td>\n",
       "      <td>68.8</td>\n",
       "    </tr>\n",
       "    <tr>\n",
       "      <th>6</th>\n",
       "      <td>Pankow</td>\n",
       "      <td>24511.0</td>\n",
       "      <td>23246</td>\n",
       "      <td>-1265.0</td>\n",
       "      <td>0.948391</td>\n",
       "      <td>82.2</td>\n",
       "    </tr>\n",
       "    <tr>\n",
       "      <th>7</th>\n",
       "      <td>Reinickendorf</td>\n",
       "      <td>11213.0</td>\n",
       "      <td>13148</td>\n",
       "      <td>1935.0</td>\n",
       "      <td>1.172568</td>\n",
       "      <td>69.5</td>\n",
       "    </tr>\n",
       "    <tr>\n",
       "      <th>8</th>\n",
       "      <td>Spandau</td>\n",
       "      <td>11289.0</td>\n",
       "      <td>12662</td>\n",
       "      <td>1373.0</td>\n",
       "      <td>1.121623</td>\n",
       "      <td>66.4</td>\n",
       "    </tr>\n",
       "    <tr>\n",
       "      <th>9</th>\n",
       "      <td>Steglitz-Zehlend.</td>\n",
       "      <td>13276.0</td>\n",
       "      <td>13363</td>\n",
       "      <td>87.0</td>\n",
       "      <td>1.006553</td>\n",
       "      <td>75.5</td>\n",
       "    </tr>\n",
       "    <tr>\n",
       "      <th>10</th>\n",
       "      <td>Tempelh.-Schöneb.</td>\n",
       "      <td>16238.0</td>\n",
       "      <td>16546</td>\n",
       "      <td>308.0</td>\n",
       "      <td>1.018968</td>\n",
       "      <td>74.0</td>\n",
       "    </tr>\n",
       "    <tr>\n",
       "      <th>11</th>\n",
       "      <td>Treptow-Köpenick</td>\n",
       "      <td>13200.0</td>\n",
       "      <td>13798</td>\n",
       "      <td>598.0</td>\n",
       "      <td>1.045303</td>\n",
       "      <td>81.0</td>\n",
       "    </tr>\n",
       "  </tbody>\n",
       "</table>\n",
       "</div>"
      ],
      "text/plain": [
       "                    area  kita_spots  under6    diff  kids_per_spot  \\\n",
       "0     Charlbg.-Wilmersd.     12691.0   13567   876.0       1.069025   \n",
       "1   Friedrichsh.-Kreuzb.     15876.0   15097  -779.0       0.950932   \n",
       "2            Lichtenberg     16039.0   16108    69.0       1.004302   \n",
       "3      Marzahn-Hellersd.     13570.0   14625  1055.0       1.077745   \n",
       "4                  Mitte     20831.0   19305 -1526.0       0.926744   \n",
       "5               Neukölln     14833.0   17040  2207.0       1.148790   \n",
       "6                 Pankow     24511.0   23246 -1265.0       0.948391   \n",
       "7          Reinickendorf     11213.0   13148  1935.0       1.172568   \n",
       "8                Spandau     11289.0   12662  1373.0       1.121623   \n",
       "9      Steglitz-Zehlend.     13276.0   13363    87.0       1.006553   \n",
       "10     Tempelh.-Schöneb.     16238.0   16546   308.0       1.018968   \n",
       "11      Treptow-Köpenick     13200.0   13798   598.0       1.045303   \n",
       "\n",
       "    women_labor_prct  \n",
       "0               72.2  \n",
       "1               80.1  \n",
       "2               77.1  \n",
       "3               75.8  \n",
       "4               69.7  \n",
       "5               68.8  \n",
       "6               82.2  \n",
       "7               69.5  \n",
       "8               66.4  \n",
       "9               75.5  \n",
       "10              74.0  \n",
       "11              81.0  "
      ]
     },
     "execution_count": 47,
     "metadata": {},
     "output_type": "execute_result"
    }
   ],
   "source": [
    "df_sums_all2 = pd.merge(df_sums_all, df_labor_force, on=\"area\", how=\"left\")\n",
    "df_sums_all2"
   ]
  },
  {
   "cell_type": "code",
   "execution_count": 48,
   "metadata": {},
   "outputs": [],
   "source": [
    "df_sums_all2.to_csv(\"../data/derived/calc_data_area.csv\")"
   ]
  },
  {
   "cell_type": "code",
   "execution_count": 49,
   "metadata": {},
   "outputs": [
    {
     "data": {
      "text/plain": [
       "Location(11, Lehndorffstraße, Prinzenviertel, Karlshorst, Lichtenberg, Berlin, 10318, Deutschland, (52.48120575, 13.520460330448065, 0.0))"
      ]
     },
     "execution_count": 49,
     "metadata": {},
     "output_type": "execute_result"
    }
   ],
   "source": [
    "### Trying Geolocator to get excact Area Code\n",
    "\n",
    "pd.read_csv(\"../data/raw/kitaliste.csv\")\n",
    "\n",
    "from geopy.geocoders import Nominatim\n",
    "geolocator = Nominatim(user_agent=\"specify_your_app_name_here\")\n",
    "location = geolocator.geocode(\"10318 Berlin, Lehndorffstr. 11\")\n",
    "location"
   ]
  },
  {
   "cell_type": "code",
   "execution_count": 38,
   "metadata": {},
   "outputs": [],
   "source": [
    "def get_lat_lng(address):\n",
    "    locator = geopy.Nominatim(user_agent='myGeocoder',\n",
    "                             format_string=\"%s, Berlin, Deutschland\")\n",
    "\n",
    "    if address is not None:\n",
    "        location = locator.geocode(address, timeout=1000)\n",
    "        try:\n",
    "            result = location.address\n",
    "        except:\n",
    "            result = None\n",
    "    else:\n",
    "        result = None\n",
    "    \n",
    "    return result\n"
   ]
  },
  {
   "cell_type": "code",
   "execution_count": 439,
   "metadata": {},
   "outputs": [
    {
     "data": {
      "text/plain": [
       "2715"
      ]
     },
     "execution_count": 439,
     "metadata": {},
     "output_type": "execute_result"
    }
   ],
   "source": [
    "kita_address = df_ber['kita_address'].tolist()\n",
    "len(kita_address)"
   ]
  },
  {
   "cell_type": "code",
   "execution_count": 440,
   "metadata": {},
   "outputs": [],
   "source": [
    "addresses1 = [get_lat_lng(address) for address in kita_address[0:500]]"
   ]
  },
  {
   "cell_type": "code",
   "execution_count": 445,
   "metadata": {},
   "outputs": [],
   "source": [
    "addresses2 = [get_lat_lng(address) for address in kita_address[500:1000]]"
   ]
  },
  {
   "cell_type": "code",
   "execution_count": 447,
   "metadata": {},
   "outputs": [],
   "source": [
    "addresses3 = [get_lat_lng(address) for address in kita_address[1000:1500]]"
   ]
  },
  {
   "cell_type": "code",
   "execution_count": 443,
   "metadata": {},
   "outputs": [],
   "source": [
    "addresses4 = [get_lat_lng(address) for address in kita_address[1500:2000]]"
   ]
  },
  {
   "cell_type": "code",
   "execution_count": 448,
   "metadata": {},
   "outputs": [],
   "source": [
    "addresses5 = [get_lat_lng(address) for address in kita_address[2000:2500]]"
   ]
  },
  {
   "cell_type": "code",
   "execution_count": 460,
   "metadata": {},
   "outputs": [],
   "source": [
    "addresses6= [get_lat_lng(address) for address in kita_address[2500:2715]]"
   ]
  },
  {
   "cell_type": "code",
   "execution_count": 462,
   "metadata": {},
   "outputs": [
    {
     "data": {
      "text/plain": [
       "2715"
      ]
     },
     "execution_count": 462,
     "metadata": {},
     "output_type": "execute_result"
    }
   ],
   "source": [
    "geo = addresses1+addresses2+addresses3+addresses4+addresses5+addresses6\n",
    "len(geo)"
   ]
  },
  {
   "cell_type": "code",
   "execution_count": 450,
   "metadata": {},
   "outputs": [
    {
     "data": {
      "text/plain": [
       "' Friedrichshain-Kreuzberg'"
      ]
     },
     "execution_count": 450,
     "metadata": {},
     "output_type": "execute_result"
    }
   ],
   "source": [
    "#geo_df = pd.DataFrame(geo) \n",
    "#geo_df\n",
    "#geo.str.split(expand=True)\n",
    "\n",
    "geo[600].split(\",\")[-4]\n"
   ]
  },
  {
   "cell_type": "code",
   "execution_count": 549,
   "metadata": {},
   "outputs": [],
   "source": [
    "stadtteil = []\n",
    "for address in geo:\n",
    "    try:\n",
    "        stadtteil.append(str(address).split(\",\")[-5])\n",
    "    except IndexError: \n",
    "        stadtteil.append(\"null\")\n",
    "    "
   ]
  },
  {
   "cell_type": "code",
   "execution_count": 550,
   "metadata": {},
   "outputs": [],
   "source": [
    "area = []\n",
    "for address in geo:\n",
    "    try:\n",
    "        area.append(str(address).split(\",\")[-4])\n",
    "    except IndexError: \n",
    "        area.append(\"null\")"
   ]
  },
  {
   "cell_type": "code",
   "execution_count": 551,
   "metadata": {},
   "outputs": [
    {
     "data": {
      "text/plain": [
       "str"
      ]
     },
     "execution_count": 551,
     "metadata": {},
     "output_type": "execute_result"
    }
   ],
   "source": [
    "type(area[1])"
   ]
  },
  {
   "cell_type": "code",
   "execution_count": 40,
   "metadata": {},
   "outputs": [
    {
     "ename": "NameError",
     "evalue": "name 'area' is not defined",
     "output_type": "error",
     "traceback": [
      "\u001b[1;31m---------------------------------------------------------------------------\u001b[0m",
      "\u001b[1;31mNameError\u001b[0m                                 Traceback (most recent call last)",
      "\u001b[1;32m<ipython-input-40-c1d187716620>\u001b[0m in \u001b[0;36m<module>\u001b[1;34m\u001b[0m\n\u001b[1;32m----> 1\u001b[1;33m \u001b[0mdf_ber\u001b[0m\u001b[1;33m[\u001b[0m\u001b[1;34m\"area\"\u001b[0m\u001b[1;33m]\u001b[0m \u001b[1;33m=\u001b[0m \u001b[0marea\u001b[0m\u001b[1;33m\u001b[0m\u001b[1;33m\u001b[0m\u001b[0m\n\u001b[0m\u001b[0;32m      2\u001b[0m \u001b[0mdf_ber\u001b[0m\u001b[1;33m[\u001b[0m\u001b[1;34m\"stadtteil\"\u001b[0m\u001b[1;33m]\u001b[0m \u001b[1;33m=\u001b[0m \u001b[0mstadtteil\u001b[0m\u001b[1;33m\u001b[0m\u001b[1;33m\u001b[0m\u001b[0m\n",
      "\u001b[1;31mNameError\u001b[0m: name 'area' is not defined"
     ]
    }
   ],
   "source": [
    "df_ber[\"area\"] = area\n",
    "df_ber[\"stadtteil\"] = stadtteil"
   ]
  },
  {
   "cell_type": "code",
   "execution_count": 39,
   "metadata": {},
   "outputs": [
    {
     "data": {
      "text/plain": [
       "array(['Mitte', 'Friedrichsh.-Kreuzb.', 'Pankow', 'Charlbg.-Wilmersd.',\n",
       "       'Spandau', 'Steglitz-Zehlend.', 'Tempelh.-Schöneb.', 'Neukölln',\n",
       "       'Treptow-Köpenick', 'Marzahn-Hellersd.', 'Lichtenberg',\n",
       "       'Reinickendorf'], dtype=object)"
      ]
     },
     "execution_count": 39,
     "metadata": {},
     "output_type": "execute_result"
    }
   ],
   "source": [
    "df_ber[\"area\"].unique()"
   ]
  }
 ],
 "metadata": {
  "kernelspec": {
   "display_name": "Python 3",
   "language": "python",
   "name": "python3"
  },
  "language_info": {
   "codemirror_mode": {
    "name": "ipython",
    "version": 3
   },
   "file_extension": ".py",
   "mimetype": "text/x-python",
   "name": "python",
   "nbconvert_exporter": "python",
   "pygments_lexer": "ipython3",
   "version": "3.7.6"
  }
 },
 "nbformat": 4,
 "nbformat_minor": 2
}
