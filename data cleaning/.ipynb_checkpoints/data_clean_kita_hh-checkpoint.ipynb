{
 "cells": [
  {
   "cell_type": "code",
   "execution_count": 18,
   "metadata": {},
   "outputs": [],
   "source": [
    "import pandas as pd"
   ]
  },
  {
   "cell_type": "code",
   "execution_count": 19,
   "metadata": {},
   "outputs": [],
   "source": [
    "df_hh = pd.read_csv(\"../data/derived/kita_data_hamburg.csv\", index_col=[0])"
   ]
  },
  {
   "cell_type": "code",
   "execution_count": 20,
   "metadata": {},
   "outputs": [
    {
     "data": {
      "text/html": [
       "<div>\n",
       "<style scoped>\n",
       "    .dataframe tbody tr th:only-of-type {\n",
       "        vertical-align: middle;\n",
       "    }\n",
       "\n",
       "    .dataframe tbody tr th {\n",
       "        vertical-align: top;\n",
       "    }\n",
       "\n",
       "    .dataframe thead th {\n",
       "        text-align: right;\n",
       "    }\n",
       "</style>\n",
       "<table border=\"1\" class=\"dataframe\">\n",
       "  <thead>\n",
       "    <tr style=\"text-align: right;\">\n",
       "      <th></th>\n",
       "      <th>kita_name</th>\n",
       "      <th>kita_address</th>\n",
       "      <th>kita_spots</th>\n",
       "    </tr>\n",
       "  </thead>\n",
       "  <tbody>\n",
       "    <tr>\n",
       "      <th>0</th>\n",
       "      <td>kindertagesstätte `die zipfelmützen´</td>\n",
       "      <td>20097 Hamburg, Friesenstraße 13</td>\n",
       "      <td>94</td>\n",
       "    </tr>\n",
       "    <tr>\n",
       "      <th>1</th>\n",
       "      <td>kindertagesstätte ´city süd rabauken`</td>\n",
       "      <td>20097 Hamburg, Friesenstraße 1</td>\n",
       "      <td>80</td>\n",
       "    </tr>\n",
       "    <tr>\n",
       "      <th>2</th>\n",
       "      <td>kinderzimmer city süd</td>\n",
       "      <td>20097 Hamburg, Amsinckstraße 61</td>\n",
       "      <td>100</td>\n",
       "    </tr>\n",
       "    <tr>\n",
       "      <th>3</th>\n",
       "      <td>bilinguale kindertagesstätte phorminis hamburg</td>\n",
       "      <td>20097 Hamburg, Wendenstraße 35-43</td>\n",
       "      <td>100</td>\n",
       "    </tr>\n",
       "    <tr>\n",
       "      <th>4</th>\n",
       "      <td>kinderzimmer hammerbrook</td>\n",
       "      <td>20097 Hamburg, Hammerbrookstraße 63-65</td>\n",
       "      <td>0</td>\n",
       "    </tr>\n",
       "    <tr>\n",
       "      <th>...</th>\n",
       "      <td>...</td>\n",
       "      <td>...</td>\n",
       "      <td>...</td>\n",
       "    </tr>\n",
       "    <tr>\n",
       "      <th>95</th>\n",
       "      <td>kinderhaus stenvort</td>\n",
       "      <td>20257 Hamburg, Stenvort 2</td>\n",
       "      <td>60</td>\n",
       "    </tr>\n",
       "    <tr>\n",
       "      <th>96</th>\n",
       "      <td>krippe minimeter</td>\n",
       "      <td>20257 Hamburg, Langenfelder Damm 41</td>\n",
       "      <td>18</td>\n",
       "    </tr>\n",
       "    <tr>\n",
       "      <th>97</th>\n",
       "      <td>kita in der schule eduardstraße</td>\n",
       "      <td>20257 Hamburg, Eduardstraße 28</td>\n",
       "      <td>&lt;a href=\"../hamburg/20257/lappenbergsallee8.ph...</td>\n",
       "    </tr>\n",
       "    <tr>\n",
       "      <th>98</th>\n",
       "      <td>kinderhaus fledermaus</td>\n",
       "      <td>20257 Hamburg, Lappenbergsallee 8</td>\n",
       "      <td>40</td>\n",
       "    </tr>\n",
       "    <tr>\n",
       "      <th>99</th>\n",
       "      <td>kinderladen prickelkids</td>\n",
       "      <td>20257 Hamburg, Bei der Apostelkirche 12</td>\n",
       "      <td>25</td>\n",
       "    </tr>\n",
       "  </tbody>\n",
       "</table>\n",
       "<p>100 rows × 3 columns</p>\n",
       "</div>"
      ],
      "text/plain": [
       "                                         kita_name  \\\n",
       "0             kindertagesstätte `die zipfelmützen´   \n",
       "1            kindertagesstätte ´city süd rabauken`   \n",
       "2                            kinderzimmer city süd   \n",
       "3   bilinguale kindertagesstätte phorminis hamburg   \n",
       "4                         kinderzimmer hammerbrook   \n",
       "..                                             ...   \n",
       "95                             kinderhaus stenvort   \n",
       "96                                krippe minimeter   \n",
       "97                 kita in der schule eduardstraße   \n",
       "98                           kinderhaus fledermaus   \n",
       "99                         kinderladen prickelkids   \n",
       "\n",
       "                               kita_address  \\\n",
       "0           20097 Hamburg, Friesenstraße 13   \n",
       "1            20097 Hamburg, Friesenstraße 1   \n",
       "2           20097 Hamburg, Amsinckstraße 61   \n",
       "3         20097 Hamburg, Wendenstraße 35-43   \n",
       "4    20097 Hamburg, Hammerbrookstraße 63-65   \n",
       "..                                      ...   \n",
       "95                20257 Hamburg, Stenvort 2   \n",
       "96      20257 Hamburg, Langenfelder Damm 41   \n",
       "97           20257 Hamburg, Eduardstraße 28   \n",
       "98        20257 Hamburg, Lappenbergsallee 8   \n",
       "99  20257 Hamburg, Bei der Apostelkirche 12   \n",
       "\n",
       "                                           kita_spots  \n",
       "0                                                  94  \n",
       "1                                                  80  \n",
       "2                                                 100  \n",
       "3                                                 100  \n",
       "4                                                   0  \n",
       "..                                                ...  \n",
       "95                                                 60  \n",
       "96                                                 18  \n",
       "97  <a href=\"../hamburg/20257/lappenbergsallee8.ph...  \n",
       "98                                                 40  \n",
       "99                                                 25  \n",
       "\n",
       "[100 rows x 3 columns]"
      ]
     },
     "execution_count": 20,
     "metadata": {},
     "output_type": "execute_result"
    }
   ],
   "source": [
    "df_hh.head(100)"
   ]
  },
  {
   "cell_type": "code",
   "execution_count": 21,
   "metadata": {},
   "outputs": [],
   "source": [
    "#from geopy.geocoders import Nominatim\n",
    "#geolocator = Nominatim(user_agent=\"testhh\")\n",
    "\n",
    "#from geopy.extra.rate_limiter import RateLimiter\n",
    "#geocode = RateLimiter(geolocator.geocode, min_delay_seconds=1)\n",
    "#df_hh['location'] = df_hh['kita_address'].apply(geocode)\n"
   ]
  },
  {
   "cell_type": "code",
   "execution_count": 22,
   "metadata": {},
   "outputs": [],
   "source": [
    "kita_list = list(df_hh.kita_address)\n",
    "plz = [x[:5] for x in kita_list]\n",
    "\n",
    "df_hh[\"plz\"] = plz\n",
    "\n",
    "import numpy as np\n",
    "\n",
    "df_hh[\"kita_spots\"] = np.where(df_hh[\"kita_spots\"].str.isdigit(), df_hh[\"kita_spots\"], 0)\n",
    "df_hh[\"plz\"] = np.where(df_hh[\"plz\"].str.isdigit(), df_hh[\"plz\"], 0)"
   ]
  },
  {
   "cell_type": "code",
   "execution_count": 23,
   "metadata": {},
   "outputs": [
    {
     "data": {
      "text/plain": [
       "kita_name       object\n",
       "kita_address    object\n",
       "kita_spots      object\n",
       "plz             object\n",
       "dtype: object"
      ]
     },
     "execution_count": 23,
     "metadata": {},
     "output_type": "execute_result"
    }
   ],
   "source": [
    "df_hh.dtypes"
   ]
  },
  {
   "cell_type": "code",
   "execution_count": 24,
   "metadata": {},
   "outputs": [],
   "source": [
    "df_hh[\"kita_spots\"] = df_hh[\"kita_spots\"].astype(int)\n",
    "df_hh[\"plz\"] = df_hh[\"plz\"].astype(int)\n"
   ]
  },
  {
   "cell_type": "code",
   "execution_count": 25,
   "metadata": {},
   "outputs": [
    {
     "data": {
      "text/plain": [
       "kita_name       object\n",
       "kita_address    object\n",
       "kita_spots       int32\n",
       "plz              int32\n",
       "dtype: object"
      ]
     },
     "execution_count": 25,
     "metadata": {},
     "output_type": "execute_result"
    }
   ],
   "source": [
    "df_hh.dtypes"
   ]
  },
  {
   "cell_type": "code",
   "execution_count": 26,
   "metadata": {},
   "outputs": [],
   "source": [
    "df_hh.to_csv(r'../data/derived/kita_data_hamburg_clean.csv')\n",
    "#df_hh.to_json(r'../data/kita_data_hamburg_clean.json')"
   ]
  },
  {
   "cell_type": "code",
   "execution_count": 10,
   "metadata": {},
   "outputs": [],
   "source": [
    "#from geopy.geocoders import Nominatim\n",
    "#geolocator = Nominatim(user_agent=\"test2\")\n",
    "\n",
    "#from geopy.extra.rate_limiter import RateLimiter\n",
    "#geocode = RateLimiter(geolocator.geocode, min_delay_seconds=1)\n",
    "#df_ber['geo_address'] = df_ber(df_ber['plz']==\"10559\").apply(geocode)\n",
    "\n"
   ]
  },
  {
   "cell_type": "code",
   "execution_count": 11,
   "metadata": {},
   "outputs": [],
   "source": [
    "#df_ber = df_ber.dropna()\n",
    "#df_ber[\"plz\"] = df_ber[\"plz\"].astype(float)"
   ]
  },
  {
   "cell_type": "code",
   "execution_count": 27,
   "metadata": {},
   "outputs": [
    {
     "data": {
      "text/plain": [
       "kita_name       object\n",
       "kita_address    object\n",
       "kita_spots       int32\n",
       "plz              int32\n",
       "dtype: object"
      ]
     },
     "execution_count": 27,
     "metadata": {},
     "output_type": "execute_result"
    }
   ],
   "source": [
    "df_hh.dtypes"
   ]
  }
 ],
 "metadata": {
  "kernelspec": {
   "display_name": "Python 3",
   "language": "python",
   "name": "python3"
  },
  "language_info": {
   "codemirror_mode": {
    "name": "ipython",
    "version": 3
   },
   "file_extension": ".py",
   "mimetype": "text/x-python",
   "name": "python",
   "nbconvert_exporter": "python",
   "pygments_lexer": "ipython3",
   "version": "3.7.6"
  }
 },
 "nbformat": 4,
 "nbformat_minor": 2
}
