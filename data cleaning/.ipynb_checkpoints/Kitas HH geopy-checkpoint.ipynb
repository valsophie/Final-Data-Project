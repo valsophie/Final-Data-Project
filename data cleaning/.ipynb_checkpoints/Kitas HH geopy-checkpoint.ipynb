{
 "cells": [
  {
   "cell_type": "code",
   "execution_count": 1,
   "metadata": {},
   "outputs": [],
   "source": [
    "import pandas as pd"
   ]
  },
  {
   "cell_type": "code",
   "execution_count": 6,
   "metadata": {},
   "outputs": [],
   "source": [
    "df_hh = pd.read_csv(\"../data/kita_data_hamburg_clean.csv\", index_col=[0])"
   ]
  },
  {
   "cell_type": "code",
   "execution_count": 307,
   "metadata": {},
   "outputs": [
    {
     "data": {
      "text/plain": [
       "Location(Türkisch - deutscher Kindergarten, 39, Eimsbütteler Straße, Altona-Nord, Altona, Hamburg, 22769, Deutschland, (53.5648493, 9.9571466, 0.0))"
      ]
     },
     "execution_count": 307,
     "metadata": {},
     "output_type": "execute_result"
    }
   ],
   "source": [
    "from geopy.geocoders import Nominatim\n",
    "geolocator = Nominatim(user_agent=\"specify_your_app_name_here\")\n",
    "location = geolocator.geocode(\"22769 Hamburg, Eimsbütteler Straße 39\")\n",
    "location"
   ]
  },
  {
   "cell_type": "code",
   "execution_count": 393,
   "metadata": {},
   "outputs": [],
   "source": [
    "def get_lat_lng(address):\n",
    "    locator = Nominatim(user_agent='myGeocoder')\n",
    "    if address is not None:\n",
    "        location = locator.geocode(address, timeout=1000)\n",
    "        try:\n",
    "            result = location.address\n",
    "        except:\n",
    "            result = None\n",
    "    else:\n",
    "        result = None\n",
    "    \n",
    "    return result"
   ]
  },
  {
   "cell_type": "code",
   "execution_count": 66,
   "metadata": {},
   "outputs": [
    {
     "data": {
      "text/plain": [
       "1060"
      ]
     },
     "execution_count": 66,
     "metadata": {},
     "output_type": "execute_result"
    }
   ],
   "source": [
    "kita_address = df_hh['kita_address'].tolist()\n",
    "len(kita_address)"
   ]
  },
  {
   "cell_type": "code",
   "execution_count": 67,
   "metadata": {},
   "outputs": [],
   "source": [
    "addresses1 = [get_lat_lng(address) for address in kita_address[0:500]]"
   ]
  },
  {
   "cell_type": "code",
   "execution_count": 68,
   "metadata": {},
   "outputs": [],
   "source": [
    "addresses2 = [get_lat_lng(address) for address in kita_address[500:1060]]"
   ]
  },
  {
   "cell_type": "code",
   "execution_count": 69,
   "metadata": {},
   "outputs": [],
   "source": [
    "geo = addresses1 + addresses2"
   ]
  },
  {
   "cell_type": "code",
   "execution_count": 375,
   "metadata": {},
   "outputs": [
    {
     "data": {
      "text/plain": [
       "' Hamburg-Mitte'"
      ]
     },
     "execution_count": 375,
     "metadata": {},
     "output_type": "execute_result"
    }
   ],
   "source": [
    "type(geo)\n",
    "type(geo[0])\n",
    "#df_hh[\"geo\"] = geo\n",
    "\n",
    "len(geo)\n",
    "\n",
    "geo[320].split(\",\")[-4]"
   ]
  },
  {
   "cell_type": "code",
   "execution_count": 376,
   "metadata": {},
   "outputs": [],
   "source": [
    "area = []\n",
    "for address in geo:\n",
    "    try:\n",
    "        area.append(str(address).split(\",\")[-4])\n",
    "    except IndexError: \n",
    "        area.append(\"null\")\n",
    "    "
   ]
  },
  {
   "cell_type": "code",
   "execution_count": 377,
   "metadata": {},
   "outputs": [],
   "source": [
    "stadtteil = []\n",
    "for address in geo:\n",
    "    try:\n",
    "        stadtteil.append(str(address).split(\",\")[-5])\n",
    "    except IndexError: \n",
    "        stadtteil.append(\"null\")"
   ]
  },
  {
   "cell_type": "code",
   "execution_count": 378,
   "metadata": {},
   "outputs": [],
   "source": [
    "df_hh[\"area\"] = area\n",
    "df_hh[\"stadtteil\"] = stadtteil"
   ]
  },
  {
   "cell_type": "code",
   "execution_count": 379,
   "metadata": {},
   "outputs": [
    {
     "data": {
      "text/html": [
       "<div>\n",
       "<style scoped>\n",
       "    .dataframe tbody tr th:only-of-type {\n",
       "        vertical-align: middle;\n",
       "    }\n",
       "\n",
       "    .dataframe tbody tr th {\n",
       "        vertical-align: top;\n",
       "    }\n",
       "\n",
       "    .dataframe thead th {\n",
       "        text-align: right;\n",
       "    }\n",
       "</style>\n",
       "<table border=\"1\" class=\"dataframe\">\n",
       "  <thead>\n",
       "    <tr style=\"text-align: right;\">\n",
       "      <th></th>\n",
       "      <th>kita_name</th>\n",
       "      <th>kita_address</th>\n",
       "      <th>kita_spots</th>\n",
       "      <th>plz</th>\n",
       "      <th>area</th>\n",
       "      <th>stadtteil</th>\n",
       "    </tr>\n",
       "  </thead>\n",
       "  <tbody>\n",
       "    <tr>\n",
       "      <th>0</th>\n",
       "      <td>kindertagesstätte `die zipfelmützen´</td>\n",
       "      <td>20097 Hamburg, Friesenstraße 13</td>\n",
       "      <td>94</td>\n",
       "      <td>20097</td>\n",
       "      <td>Hamburg-Mitte</td>\n",
       "      <td>Hammerbrook</td>\n",
       "    </tr>\n",
       "    <tr>\n",
       "      <th>1</th>\n",
       "      <td>kindertagesstätte ´city süd rabauken`</td>\n",
       "      <td>20097 Hamburg, Friesenstraße 1</td>\n",
       "      <td>80</td>\n",
       "      <td>20097</td>\n",
       "      <td>Hamburg-Mitte</td>\n",
       "      <td>Hammerbrook</td>\n",
       "    </tr>\n",
       "    <tr>\n",
       "      <th>2</th>\n",
       "      <td>kinderzimmer city süd</td>\n",
       "      <td>20097 Hamburg, Amsinckstraße 61</td>\n",
       "      <td>100</td>\n",
       "      <td>20097</td>\n",
       "      <td>Hamburg-Mitte</td>\n",
       "      <td>Hammerbrook</td>\n",
       "    </tr>\n",
       "    <tr>\n",
       "      <th>3</th>\n",
       "      <td>bilinguale kindertagesstätte phorminis hamburg</td>\n",
       "      <td>20097 Hamburg, Wendenstraße 35-43</td>\n",
       "      <td>100</td>\n",
       "      <td>20097</td>\n",
       "      <td>Hamburg-Mitte</td>\n",
       "      <td>Hammerbrook</td>\n",
       "    </tr>\n",
       "    <tr>\n",
       "      <th>4</th>\n",
       "      <td>kinderzimmer hammerbrook</td>\n",
       "      <td>20097 Hamburg, Hammerbrookstraße 63-65</td>\n",
       "      <td>0</td>\n",
       "      <td>20097</td>\n",
       "      <td>Hamburg-Mitte</td>\n",
       "      <td>St. Georg</td>\n",
       "    </tr>\n",
       "    <tr>\n",
       "      <th>...</th>\n",
       "      <td>...</td>\n",
       "      <td>...</td>\n",
       "      <td>...</td>\n",
       "      <td>...</td>\n",
       "      <td>...</td>\n",
       "      <td>...</td>\n",
       "    </tr>\n",
       "    <tr>\n",
       "      <th>1055</th>\n",
       "      <td>kita schmuddelkinder `babyhaus´</td>\n",
       "      <td>22769 Hamburg, Heinrichstraße 19</td>\n",
       "      <td>30</td>\n",
       "      <td>22769</td>\n",
       "      <td>Eimsbüttel</td>\n",
       "      <td>Heinrichstraße</td>\n",
       "    </tr>\n",
       "    <tr>\n",
       "      <th>1056</th>\n",
       "      <td>türkisch-deutscher kindergarten</td>\n",
       "      <td>22769 Hamburg, Eimsbütteler Straße 39</td>\n",
       "      <td>52</td>\n",
       "      <td>22769</td>\n",
       "      <td>Altona</td>\n",
       "      <td>Altona-Nord</td>\n",
       "    </tr>\n",
       "    <tr>\n",
       "      <th>1057</th>\n",
       "      <td>kita villa wackelzahn</td>\n",
       "      <td>22769 Hamburg, Waterloostraße 6</td>\n",
       "      <td>0</td>\n",
       "      <td>22769</td>\n",
       "      <td>Eimsbüttel</td>\n",
       "      <td>Waterloostraße</td>\n",
       "    </tr>\n",
       "    <tr>\n",
       "      <th>1058</th>\n",
       "      <td>lorenzini kunst-kita (stresemannstrasse)</td>\n",
       "      <td>22769 Hamburg, Stresemannstrasse 52</td>\n",
       "      <td>90</td>\n",
       "      <td>22769</td>\n",
       "      <td>Hamburg-Mitte</td>\n",
       "      <td>St. Pauli</td>\n",
       "    </tr>\n",
       "    <tr>\n",
       "      <th>1059</th>\n",
       "      <td>lorenzini kunst-kita (krippe)</td>\n",
       "      <td>22769 Hamburg, Sommerhuder Straße 35a</td>\n",
       "      <td>30</td>\n",
       "      <td>22769</td>\n",
       "      <td>Altona</td>\n",
       "      <td>Altona-Nord</td>\n",
       "    </tr>\n",
       "  </tbody>\n",
       "</table>\n",
       "<p>1060 rows × 6 columns</p>\n",
       "</div>"
      ],
      "text/plain": [
       "                                           kita_name  \\\n",
       "0               kindertagesstätte `die zipfelmützen´   \n",
       "1              kindertagesstätte ´city süd rabauken`   \n",
       "2                              kinderzimmer city süd   \n",
       "3     bilinguale kindertagesstätte phorminis hamburg   \n",
       "4                           kinderzimmer hammerbrook   \n",
       "...                                              ...   \n",
       "1055                 kita schmuddelkinder `babyhaus´   \n",
       "1056                 türkisch-deutscher kindergarten   \n",
       "1057                           kita villa wackelzahn   \n",
       "1058        lorenzini kunst-kita (stresemannstrasse)   \n",
       "1059                   lorenzini kunst-kita (krippe)   \n",
       "\n",
       "                                kita_address  kita_spots    plz  \\\n",
       "0            20097 Hamburg, Friesenstraße 13          94  20097   \n",
       "1             20097 Hamburg, Friesenstraße 1          80  20097   \n",
       "2            20097 Hamburg, Amsinckstraße 61         100  20097   \n",
       "3          20097 Hamburg, Wendenstraße 35-43         100  20097   \n",
       "4     20097 Hamburg, Hammerbrookstraße 63-65           0  20097   \n",
       "...                                      ...         ...    ...   \n",
       "1055        22769 Hamburg, Heinrichstraße 19          30  22769   \n",
       "1056   22769 Hamburg, Eimsbütteler Straße 39          52  22769   \n",
       "1057         22769 Hamburg, Waterloostraße 6           0  22769   \n",
       "1058     22769 Hamburg, Stresemannstrasse 52          90  22769   \n",
       "1059   22769 Hamburg, Sommerhuder Straße 35a          30  22769   \n",
       "\n",
       "                area        stadtteil  \n",
       "0      Hamburg-Mitte      Hammerbrook  \n",
       "1      Hamburg-Mitte      Hammerbrook  \n",
       "2      Hamburg-Mitte      Hammerbrook  \n",
       "3      Hamburg-Mitte      Hammerbrook  \n",
       "4      Hamburg-Mitte        St. Georg  \n",
       "...              ...              ...  \n",
       "1055      Eimsbüttel   Heinrichstraße  \n",
       "1056          Altona      Altona-Nord  \n",
       "1057      Eimsbüttel   Waterloostraße  \n",
       "1058   Hamburg-Mitte        St. Pauli  \n",
       "1059          Altona      Altona-Nord  \n",
       "\n",
       "[1060 rows x 6 columns]"
      ]
     },
     "execution_count": 379,
     "metadata": {},
     "output_type": "execute_result"
    }
   ],
   "source": [
    "df_hh"
   ]
  },
  {
   "cell_type": "code",
   "execution_count": 380,
   "metadata": {},
   "outputs": [],
   "source": [
    "df_kinder = pd.read_excel(\"../data/kinder_hh_stadtteile.xlsx\")"
   ]
  },
  {
   "cell_type": "code",
   "execution_count": 318,
   "metadata": {},
   "outputs": [],
   "source": [
    "#df_merge = pd.merge(df_hh, df_kinder, on=\"stadtteil\", how=\"left\")"
   ]
  },
  {
   "cell_type": "code",
   "execution_count": 374,
   "metadata": {},
   "outputs": [],
   "source": [
    "#df_hh[\"area\"] = df_hh['area'].str.replace('Hamburg', 'Hamburg-Mitte', regex=False)"
   ]
  },
  {
   "cell_type": "code",
   "execution_count": 381,
   "metadata": {},
   "outputs": [
    {
     "data": {
      "text/html": [
       "<div>\n",
       "<style scoped>\n",
       "    .dataframe tbody tr th:only-of-type {\n",
       "        vertical-align: middle;\n",
       "    }\n",
       "\n",
       "    .dataframe tbody tr th {\n",
       "        vertical-align: top;\n",
       "    }\n",
       "\n",
       "    .dataframe thead th {\n",
       "        text-align: right;\n",
       "    }\n",
       "</style>\n",
       "<table border=\"1\" class=\"dataframe\">\n",
       "  <thead>\n",
       "    <tr style=\"text-align: right;\">\n",
       "      <th></th>\n",
       "      <th>area</th>\n",
       "      <th>kita_spots</th>\n",
       "    </tr>\n",
       "  </thead>\n",
       "  <tbody>\n",
       "    <tr>\n",
       "      <th>0</th>\n",
       "      <td>Altona</td>\n",
       "      <td>6437</td>\n",
       "    </tr>\n",
       "    <tr>\n",
       "      <th>1</th>\n",
       "      <td>Bergedorf</td>\n",
       "      <td>2383</td>\n",
       "    </tr>\n",
       "    <tr>\n",
       "      <th>2</th>\n",
       "      <td>Billwerder</td>\n",
       "      <td>125</td>\n",
       "    </tr>\n",
       "    <tr>\n",
       "      <th>3</th>\n",
       "      <td>Eimsbüttel</td>\n",
       "      <td>5393</td>\n",
       "    </tr>\n",
       "    <tr>\n",
       "      <th>4</th>\n",
       "      <td>Hamburg</td>\n",
       "      <td>40</td>\n",
       "    </tr>\n",
       "    <tr>\n",
       "      <th>5</th>\n",
       "      <td>Hamburg-Mitte</td>\n",
       "      <td>5473</td>\n",
       "    </tr>\n",
       "    <tr>\n",
       "      <th>6</th>\n",
       "      <td>Hamburg-Nord</td>\n",
       "      <td>5098</td>\n",
       "    </tr>\n",
       "    <tr>\n",
       "      <th>7</th>\n",
       "      <td>Harburg</td>\n",
       "      <td>2866</td>\n",
       "    </tr>\n",
       "    <tr>\n",
       "      <th>8</th>\n",
       "      <td>Herzogtum Lauenburg</td>\n",
       "      <td>273</td>\n",
       "    </tr>\n",
       "    <tr>\n",
       "      <th>9</th>\n",
       "      <td>Stormarn</td>\n",
       "      <td>94</td>\n",
       "    </tr>\n",
       "    <tr>\n",
       "      <th>10</th>\n",
       "      <td>Wandsbek</td>\n",
       "      <td>7119</td>\n",
       "    </tr>\n",
       "    <tr>\n",
       "      <th>11</th>\n",
       "      <td>null</td>\n",
       "      <td>625</td>\n",
       "    </tr>\n",
       "  </tbody>\n",
       "</table>\n",
       "</div>"
      ],
      "text/plain": [
       "                    area  kita_spots\n",
       "0                 Altona        6437\n",
       "1              Bergedorf        2383\n",
       "2             Billwerder         125\n",
       "3             Eimsbüttel        5393\n",
       "4                Hamburg          40\n",
       "5          Hamburg-Mitte        5473\n",
       "6           Hamburg-Nord        5098\n",
       "7                Harburg        2866\n",
       "8    Herzogtum Lauenburg         273\n",
       "9               Stormarn          94\n",
       "10              Wandsbek        7119\n",
       "11                  null         625"
      ]
     },
     "execution_count": 381,
     "metadata": {},
     "output_type": "execute_result"
    }
   ],
   "source": [
    "sum_area_spots = df_hh.groupby(df_hh[\"area\"])[\"kita_spots\"].sum()\n",
    "df_area_spots = sum_area_spots.reset_index()\n",
    "df_area_spots"
   ]
  },
  {
   "cell_type": "code",
   "execution_count": 383,
   "metadata": {},
   "outputs": [
    {
     "data": {
      "text/html": [
       "<div>\n",
       "<style scoped>\n",
       "    .dataframe tbody tr th:only-of-type {\n",
       "        vertical-align: middle;\n",
       "    }\n",
       "\n",
       "    .dataframe tbody tr th {\n",
       "        vertical-align: top;\n",
       "    }\n",
       "\n",
       "    .dataframe thead th {\n",
       "        text-align: right;\n",
       "    }\n",
       "</style>\n",
       "<table border=\"1\" class=\"dataframe\">\n",
       "  <thead>\n",
       "    <tr style=\"text-align: right;\">\n",
       "      <th></th>\n",
       "      <th>stadtteil</th>\n",
       "      <th>kita_spots</th>\n",
       "    </tr>\n",
       "  </thead>\n",
       "  <tbody>\n",
       "    <tr>\n",
       "      <th>0</th>\n",
       "      <td>Alardusstraße</td>\n",
       "      <td>44</td>\n",
       "    </tr>\n",
       "    <tr>\n",
       "      <th>1</th>\n",
       "      <td>Allermöhe</td>\n",
       "      <td>130</td>\n",
       "    </tr>\n",
       "    <tr>\n",
       "      <th>2</th>\n",
       "      <td>Alsterdorf</td>\n",
       "      <td>592</td>\n",
       "    </tr>\n",
       "    <tr>\n",
       "      <th>3</th>\n",
       "      <td>Altengamme</td>\n",
       "      <td>88</td>\n",
       "    </tr>\n",
       "    <tr>\n",
       "      <th>4</th>\n",
       "      <td>Altona</td>\n",
       "      <td>40</td>\n",
       "    </tr>\n",
       "    <tr>\n",
       "      <th>...</th>\n",
       "      <td>...</td>\n",
       "      <td>...</td>\n",
       "    </tr>\n",
       "    <tr>\n",
       "      <th>172</th>\n",
       "      <td>Schäferstraße</td>\n",
       "      <td>24</td>\n",
       "    </tr>\n",
       "    <tr>\n",
       "      <th>173</th>\n",
       "      <td>Tornquiststraße</td>\n",
       "      <td>0</td>\n",
       "    </tr>\n",
       "    <tr>\n",
       "      <th>174</th>\n",
       "      <td>Weidenallee</td>\n",
       "      <td>0</td>\n",
       "    </tr>\n",
       "    <tr>\n",
       "      <th>175</th>\n",
       "      <td>Zitadellenstraße</td>\n",
       "      <td>70</td>\n",
       "    </tr>\n",
       "    <tr>\n",
       "      <th>176</th>\n",
       "      <td>null</td>\n",
       "      <td>625</td>\n",
       "    </tr>\n",
       "  </tbody>\n",
       "</table>\n",
       "<p>177 rows × 2 columns</p>\n",
       "</div>"
      ],
      "text/plain": [
       "            stadtteil  kita_spots\n",
       "0       Alardusstraße          44\n",
       "1           Allermöhe         130\n",
       "2          Alsterdorf         592\n",
       "3          Altengamme          88\n",
       "4              Altona          40\n",
       "..                ...         ...\n",
       "172     Schäferstraße          24\n",
       "173   Tornquiststraße           0\n",
       "174       Weidenallee           0\n",
       "175  Zitadellenstraße          70\n",
       "176              null         625\n",
       "\n",
       "[177 rows x 2 columns]"
      ]
     },
     "execution_count": 383,
     "metadata": {},
     "output_type": "execute_result"
    }
   ],
   "source": [
    "sum_stadtteil_spots = df_hh.groupby(df_hh[\"stadtteil\"])[\"kita_spots\"].sum()\n",
    "df_stadtteil_spots = sum_stadtteil_spots.reset_index()\n",
    "df_stadtteil_spots(head)"
   ]
  },
  {
   "cell_type": "code",
   "execution_count": 384,
   "metadata": {},
   "outputs": [],
   "source": [
    "df_stadtteil_spots['stadtteil'] = df_stadtteil_spots['stadtteil'].str.strip()"
   ]
  },
  {
   "cell_type": "code",
   "execution_count": 385,
   "metadata": {},
   "outputs": [],
   "source": [
    "df_kinder[\"stadtteil\"]=df_kinder[\"stadtteil\"].str.strip()"
   ]
  },
  {
   "cell_type": "code",
   "execution_count": 386,
   "metadata": {},
   "outputs": [],
   "source": [
    "df_stadtteil_spots[\"stadtteil\"] = df_stadtteil_spots['stadtteil'].str.replace('Altona', 'Altona-Altstadt', regex=False)"
   ]
  },
  {
   "cell_type": "code",
   "execution_count": 351,
   "metadata": {},
   "outputs": [],
   "source": [
    "df_merge_st = pd.merge(df_stadtteil_spots, df_kinder, on=\"stadtteil\", how=\"left\")"
   ]
  },
  {
   "cell_type": "code",
   "execution_count": 1,
   "metadata": {},
   "outputs": [
    {
     "ename": "NameError",
     "evalue": "name 'df_merge_st' is not defined",
     "output_type": "error",
     "traceback": [
      "\u001b[1;31m---------------------------------------------------------------------------\u001b[0m",
      "\u001b[1;31mNameError\u001b[0m                                 Traceback (most recent call last)",
      "\u001b[1;32m<ipython-input-1-964152a3d2a0>\u001b[0m in \u001b[0;36m<module>\u001b[1;34m\u001b[0m\n\u001b[1;32m----> 1\u001b[1;33m \u001b[0mdf_merge_st\u001b[0m\u001b[1;33m(\u001b[0m\u001b[0mhead\u001b[0m\u001b[1;33m)\u001b[0m\u001b[1;33m\u001b[0m\u001b[1;33m\u001b[0m\u001b[0m\n\u001b[0m",
      "\u001b[1;31mNameError\u001b[0m: name 'df_merge_st' is not defined"
     ]
    }
   ],
   "source": [
    "df_merge_st(head)"
   ]
  },
  {
   "cell_type": "code",
   "execution_count": null,
   "metadata": {},
   "outputs": [],
   "source": []
  }
 ],
 "metadata": {
  "kernelspec": {
   "display_name": "Python 3",
   "language": "python",
   "name": "python3"
  },
  "language_info": {
   "codemirror_mode": {
    "name": "ipython",
    "version": 3
   },
   "file_extension": ".py",
   "mimetype": "text/x-python",
   "name": "python",
   "nbconvert_exporter": "python",
   "pygments_lexer": "ipython3",
   "version": "3.7.6"
  }
 },
 "nbformat": 4,
 "nbformat_minor": 2
}
